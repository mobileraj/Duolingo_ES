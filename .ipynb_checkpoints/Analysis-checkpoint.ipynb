{
 "cells": [
  {
   "cell_type": "code",
   "execution_count": 50,
   "metadata": {
    "collapsed": false
   },
   "outputs": [
    {
     "data": {
      "text/html": [
       "<table>\n",
       "<thead><tr><th scope=col>Timestamp</th><th scope=col>Skill</th><th scope=col>Lesson</th><th scope=col>XP</th><th scope=col>Points</th><th scope=col>Weekday</th><th scope=col>Hour</th><th scope=col>Subject</th></tr></thead>\n",
       "<tbody>\n",
       "\t<tr><td>11/21/16 9:36 </td><td>-             </td><td>Practice      </td><td>5 XP          </td><td> 5            </td><td>2             </td><td> 9            </td><td>Practice      </td></tr>\n",
       "\t<tr><td>11/21/16 9:31 </td><td>-             </td><td>Practice      </td><td>6 XP          </td><td> 6            </td><td>2             </td><td> 9            </td><td>Practice      </td></tr>\n",
       "\t<tr><td>11/21/16 9:18 </td><td>-             </td><td>Practice      </td><td>9 XP          </td><td> 9            </td><td>2             </td><td> 9            </td><td>Practice      </td></tr>\n",
       "\t<tr><td>11/21/16 8:22 </td><td>-             </td><td>Practice      </td><td>10 XP         </td><td>10            </td><td>2             </td><td> 8            </td><td>Practice      </td></tr>\n",
       "\t<tr><td>11/20/16 11:37</td><td>-             </td><td>Practice      </td><td>10 XP         </td><td>10            </td><td>1             </td><td>11            </td><td>Practice      </td></tr>\n",
       "\t<tr><td>11/20/16 11:31</td><td>-             </td><td>Practice      </td><td>12 XP         </td><td>12            </td><td>1             </td><td>11            </td><td>Practice      </td></tr>\n",
       "</tbody>\n",
       "</table>\n"
      ],
      "text/latex": [
       "\\begin{tabular}{r|llllllll}\n",
       " Timestamp & Skill & Lesson & XP & Points & Weekday & Hour & Subject\\\\\n",
       "\\hline\n",
       "\t 11/21/16 9:36  & -              & Practice       & 5 XP           &  5             & 2              &  9             & Practice      \\\\\n",
       "\t 11/21/16 9:31  & -              & Practice       & 6 XP           &  6             & 2              &  9             & Practice      \\\\\n",
       "\t 11/21/16 9:18  & -              & Practice       & 9 XP           &  9             & 2              &  9             & Practice      \\\\\n",
       "\t 11/21/16 8:22  & -              & Practice       & 10 XP          & 10             & 2              &  8             & Practice      \\\\\n",
       "\t 11/20/16 11:37 & -              & Practice       & 10 XP          & 10             & 1              & 11             & Practice      \\\\\n",
       "\t 11/20/16 11:31 & -              & Practice       & 12 XP          & 12             & 1              & 11             & Practice      \\\\\n",
       "\\end{tabular}\n"
      ],
      "text/plain": [
       "  Timestamp      Skill Lesson   XP    Points Weekday Hour Subject \n",
       "1 11/21/16 9:36  -     Practice 5 XP   5     2        9   Practice\n",
       "2 11/21/16 9:31  -     Practice 6 XP   6     2        9   Practice\n",
       "3 11/21/16 9:18  -     Practice 9 XP   9     2        9   Practice\n",
       "4 11/21/16 8:22  -     Practice 10 XP 10     2        8   Practice\n",
       "5 11/20/16 11:37 -     Practice 10 XP 10     1       11   Practice\n",
       "6 11/20/16 11:31 -     Practice 12 XP 12     1       11   Practice"
      ]
     },
     "metadata": {},
     "output_type": "display_data"
    }
   ],
   "source": [
    "library(ggplot2)\n",
    "library(dplyr)\n",
    "library(ggthemes)  \n",
    "library(viridis)\n",
    "library(lubridate)\n",
    "d = read.csv('data.csv',header=T,stringsAsFactors = F)\n",
    "#d$TS = as.POSIXct(d$Timestamp,format=\"%m/%d/%y %H:%M\")\n",
    "head(d)\n",
    "d <- d %>% \n",
    "  mutate(\n",
    "    TSP = parse_date_time(Timestamp,\"%m/%d/%y %H:%M\"),\n",
    "    Weekday = wday(TSP, label=TRUE, abbr=FALSE),\n",
    "    Day = date(TSP))"
   ]
  },
  {
   "cell_type": "code",
   "execution_count": 51,
   "metadata": {
    "collapsed": false
   },
   "outputs": [
    {
     "data": {
      "text/plain": [
       "        Min.      1st Qu.       Median         Mean      3rd Qu.         Max. \n",
       "\"2016-10-09\" \"2016-10-26\" \"2016-11-27\" \"2016-12-06\" \"2017-01-12\" \"2017-03-14\" "
      ]
     },
     "metadata": {},
     "output_type": "display_data"
    },
    {
     "data": {
      "text/html": [
       "281"
      ],
      "text/latex": [
       "281"
      ],
      "text/markdown": [
       "281"
      ],
      "text/plain": [
       "[1] 281"
      ]
     },
     "metadata": {},
     "output_type": "display_data"
    }
   ],
   "source": [
    "summary(d$Day)\n",
    "as.numeric(format(as.Date(\"2016-10-07\"), \"%j\"))"
   ]
  },
  {
   "cell_type": "code",
   "execution_count": 52,
   "metadata": {
    "collapsed": false
   },
   "outputs": [
    {
     "data": {
      "text/html": [
       "<ol class=list-inline>\n",
       "\t<li>390</li>\n",
       "\t<li>100</li>\n",
       "\t<li>180</li>\n",
       "\t<li>260</li>\n",
       "\t<li>40</li>\n",
       "\t<li>80</li>\n",
       "</ol>\n"
      ],
      "text/latex": [
       "\\begin{enumerate*}\n",
       "\\item 390\n",
       "\\item 100\n",
       "\\item 180\n",
       "\\item 260\n",
       "\\item 40\n",
       "\\item 80\n",
       "\\end{enumerate*}\n"
      ],
      "text/markdown": [
       "1. 390\n",
       "2. 100\n",
       "3. 180\n",
       "4. 260\n",
       "5. 40\n",
       "6. 80\n",
       "\n",
       "\n"
      ],
      "text/plain": [
       "[1] 390 100 180 260  40  80"
      ]
     },
     "metadata": {},
     "output_type": "display_data"
    }
   ],
   "source": [
    "b <- d %>% group_by(Day) %>% summarise(XPT=sum(Points))\n",
    "ts1 <- ts(b$XPT,start=c(2016,283),end=c(2017,73),frequency=366)\n",
    "head(ts1)\n",
    "g<-ggplot(b,aes(x=Day,y=XPT,group=1)) +geom_point() +geom_line()\n",
    "ggsave(filename=\"ts1.png\",plot=g, width=10, height=3)\n",
    "g<-ggplot(b, aes(XPT)) + geom_density()\n",
    "ggsave(filename=\"ts_hist.png\",plot=g, width=10, height=3)"
   ]
  },
  {
   "cell_type": "code",
   "execution_count": 53,
   "metadata": {
    "collapsed": false
   },
   "outputs": [
    {
     "data": {
      "text/html": [
       "<table>\n",
       "<thead><tr><th scope=col>Weekday</th><th scope=col>Hour</th><th scope=col>XPT</th></tr></thead>\n",
       "<tbody>\n",
       "\t<tr><td>Sunday</td><td> 0    </td><td> 10   </td></tr>\n",
       "\t<tr><td>Sunday</td><td> 7    </td><td> 50   </td></tr>\n",
       "\t<tr><td>Sunday</td><td> 8    </td><td>140   </td></tr>\n",
       "\t<tr><td>Sunday</td><td> 9    </td><td>151   </td></tr>\n",
       "\t<tr><td>Sunday</td><td>10    </td><td>116   </td></tr>\n",
       "\t<tr><td>Sunday</td><td>11    </td><td>126   </td></tr>\n",
       "</tbody>\n",
       "</table>\n"
      ],
      "text/latex": [
       "\\begin{tabular}{r|lll}\n",
       " Weekday & Hour & XPT\\\\\n",
       "\\hline\n",
       "\t Sunday &  0     &  10   \\\\\n",
       "\t Sunday &  7     &  50   \\\\\n",
       "\t Sunday &  8     & 140   \\\\\n",
       "\t Sunday &  9     & 151   \\\\\n",
       "\t Sunday & 10     & 116   \\\\\n",
       "\t Sunday & 11     & 126   \\\\\n",
       "\\end{tabular}\n"
      ],
      "text/plain": [
       "  Weekday Hour XPT\n",
       "1 Sunday   0    10\n",
       "2 Sunday   7    50\n",
       "3 Sunday   8   140\n",
       "4 Sunday   9   151\n",
       "5 Sunday  10   116\n",
       "6 Sunday  11   126"
      ]
     },
     "metadata": {},
     "output_type": "display_data"
    }
   ],
   "source": [
    "a2 = d %>% group_by(Weekday,Hour) %>% summarise(XPT=sum(Points))\n",
    "head(a2)"
   ]
  },
  {
   "cell_type": "code",
   "execution_count": 54,
   "metadata": {
    "collapsed": true
   },
   "outputs": [],
   "source": [
    "gg <- ggplot(a2, aes(x=Hour, y=Weekday, fill=XPT)) \n",
    "gg <- gg + geom_tile(color=\"grey\", size=0.1)\n",
    "gg <- gg + scale_fill_viridis(name=\"# Points\")\n",
    "gg <- gg + coord_equal()\n",
    "gg <- gg + labs(x=NULL, y=NULL, title=\"XP per weekday & time of day\")\n",
    "gg <- gg + theme_tufte(base_family=\"Helvetica\")\n",
    "gg <- gg + theme(plot.title=element_text(hjust=0))\n",
    "gg <- gg + theme(axis.ticks=element_blank())\n",
    "gg <- gg + theme(axis.text=element_text(size=7))\n",
    "gg <- gg + theme(legend.title=element_text(size=8))\n",
    "gg <- gg + theme(legend.text=element_text(size=6))\n",
    "ggsave(filename=\"wk_heatmap.png\",plot=gg,width=6, height=4)"
   ]
  },
  {
   "cell_type": "code",
   "execution_count": 55,
   "metadata": {
    "collapsed": false
   },
   "outputs": [],
   "source": [
    "g<-ggplot(a2,aes(x=Hour,y=XPT)) +geom_point()\n",
    "ggsave(filename=\"xpt_hr.png\",plot=g,width=10, height=3)"
   ]
  },
  {
   "cell_type": "code",
   "execution_count": 71,
   "metadata": {
    "collapsed": false
   },
   "outputs": [
    {
     "name": "stderr",
     "output_type": "stream",
     "text": [
      "Saving 7 x 7 in image\n"
     ]
    }
   ],
   "source": [
    "a3 = d %>% group_by(Day,Subject) %>% summarise(XPT=sum(Points))\n",
    "gg<-ggplot(a3, aes(x=Day, y=Subject, fill=XPT))  + geom_tile(color=\"grey\", size=0.1)\n",
    "ggsave(filename=\"day_subj.png\",plot=gg)"
   ]
  },
  {
   "cell_type": "code",
   "execution_count": null,
   "metadata": {
    "collapsed": true
   },
   "outputs": [],
   "source": []
  }
 ],
 "metadata": {
  "kernelspec": {
   "display_name": "R",
   "language": "R",
   "name": "ir"
  },
  "language_info": {
   "codemirror_mode": "r",
   "file_extension": ".r",
   "mimetype": "text/x-r-source",
   "name": "R",
   "pygments_lexer": "r",
   "version": "3.2.4"
  }
 },
 "nbformat": 4,
 "nbformat_minor": 0
}
